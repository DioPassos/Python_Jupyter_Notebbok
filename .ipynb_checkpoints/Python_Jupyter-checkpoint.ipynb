{
 "cells": [
  {
   "cell_type": "markdown",
   "metadata": {},
   "source": [
    "Primeira parte com Listas"
   ]
  },
  {
   "cell_type": "code",
   "execution_count": 1,
   "metadata": {},
   "outputs": [
    {
     "data": {
      "text/plain": [
       "list"
      ]
     },
     "execution_count": 1,
     "metadata": {},
     "output_type": "execute_result"
    }
   ],
   "source": [
    "#criar listas colocamos entre colchetes\n",
    "lista1=[1,2,3,4]\n",
    "type(lista1)\n"
   ]
  },
  {
   "cell_type": "code",
   "execution_count": 2,
   "metadata": {},
   "outputs": [],
   "source": [
    "lista2=[4,6,8,10]"
   ]
  },
  {
   "cell_type": "code",
   "execution_count": 5,
   "metadata": {},
   "outputs": [
    {
     "data": {
      "text/plain": [
       "6"
      ]
     },
     "execution_count": 5,
     "metadata": {},
     "output_type": "execute_result"
    }
   ],
   "source": [
    "#o acesso aos elementos das lista em python inicia do \"ZERO\" a contagem\n",
    "lista2[0]\n",
    "lista2[1]"
   ]
  },
  {
   "cell_type": "code",
   "execution_count": 4,
   "metadata": {},
   "outputs": [],
   "source": [
    "#se tiver uma lista e quiser adicionar um elemento comando .append()"
   ]
  },
  {
   "cell_type": "code",
   "execution_count": 6,
   "metadata": {},
   "outputs": [],
   "source": [
    "(lista2).append('dioeliton')"
   ]
  },
  {
   "cell_type": "code",
   "execution_count": 7,
   "metadata": {},
   "outputs": [
    {
     "data": {
      "text/plain": [
       "[4, 6, 8, 10, 'dioeliton']"
      ]
     },
     "execution_count": 7,
     "metadata": {},
     "output_type": "execute_result"
    }
   ],
   "source": [
    "lista2"
   ]
  },
  {
   "cell_type": "code",
   "execution_count": 9,
   "metadata": {},
   "outputs": [
    {
     "name": "stdout",
     "output_type": "stream",
     "text": [
      "[1000, 6, 8, 10, 'dioeliton']\n"
     ]
    }
   ],
   "source": [
    "#nas listas podemos modificar os elementos aprftir dos indices\n",
    "lista2[0]=1000\n",
    "print(lista2)"
   ]
  },
  {
   "cell_type": "code",
   "execution_count": 10,
   "metadata": {},
   "outputs": [
    {
     "name": "stdout",
     "output_type": "stream",
     "text": [
      "[1000, 6, 8, 10, 'dioeliton', 1, 2, 3, 4]\n"
     ]
    }
   ],
   "source": [
    "#para o item da lista1 adicione o item da lista2, adicionando os itens das listas\n",
    "for item in lista1:\n",
    "  lista2.append(item)\n",
    "print(lista2)"
   ]
  },
  {
   "cell_type": "code",
   "execution_count": 11,
   "metadata": {},
   "outputs": [
    {
     "name": "stdout",
     "output_type": "stream",
     "text": [
      "O nome sorteado foi: jose\n"
     ]
    }
   ],
   "source": [
    "#importando a biblioteca ramdom para fazer sorteios aleatórios\n",
    "import random\n",
    "nomes =['joao','pedro','carlos','jose']\n",
    "sorteio=random.choice(nomes)\n",
    "print('O nome sorteado foi:',sorteio)"
   ]
  },
  {
   "cell_type": "code",
   "execution_count": 12,
   "metadata": {},
   "outputs": [
    {
     "data": {
      "text/plain": [
       "int"
      ]
     },
     "execution_count": 12,
     "metadata": {},
     "output_type": "execute_result"
    }
   ],
   "source": [
    "num=8\n",
    "type(num)"
   ]
  },
  {
   "cell_type": "code",
   "execution_count": 13,
   "metadata": {},
   "outputs": [
    {
     "data": {
      "text/plain": [
       "8.0"
      ]
     },
     "execution_count": 13,
     "metadata": {},
     "output_type": "execute_result"
    }
   ],
   "source": [
    "float(num)"
   ]
  },
  {
   "cell_type": "code",
   "execution_count": 14,
   "metadata": {},
   "outputs": [
    {
     "data": {
      "text/plain": [
       "list"
      ]
     },
     "execution_count": 14,
     "metadata": {},
     "output_type": "execute_result"
    }
   ],
   "source": [
    "x=[2,4,10,6]\n",
    "type(x)"
   ]
  },
  {
   "cell_type": "code",
   "execution_count": 15,
   "metadata": {},
   "outputs": [
    {
     "name": "stdout",
     "output_type": "stream",
     "text": [
      "[2, 4, 10, 6]\n"
     ]
    }
   ],
   "source": [
    "#pegando a lista e transformando em inteiro ou float para cada item da lista faça;\n",
    "nova=[]\n",
    "for item in x:\n",
    "    nova.append(int(item))\n",
    "print(nova) "
   ]
  },
  {
   "cell_type": "code",
   "execution_count": 16,
   "metadata": {},
   "outputs": [
    {
     "name": "stdout",
     "output_type": "stream",
     "text": [
      "[2.0, 4.0, 10.0, 6.0]\n"
     ]
    }
   ],
   "source": [
    "nova=[]\n",
    "for item in x:\n",
    "    nova.append(float(item))\n",
    "print(nova)  "
   ]
  },
  {
   "cell_type": "markdown",
   "metadata": {},
   "source": [
    "TUPLAS"
   ]
  },
  {
   "cell_type": "code",
   "execution_count": 17,
   "metadata": {},
   "outputs": [
    {
     "data": {
      "text/plain": [
       "tuple"
      ]
     },
     "execution_count": 17,
     "metadata": {},
     "output_type": "execute_result"
    }
   ],
   "source": [
    "#diferente das listas as tuplas elas não podem ser modificadas e \n",
    "#são representadas por parenteses.\n",
    "\n",
    "tupla1=(10,20,30)\n",
    "type(tupla1)"
   ]
  },
  {
   "cell_type": "code",
   "execution_count": 20,
   "metadata": {},
   "outputs": [
    {
     "data": {
      "text/plain": [
       "(10, 20, 30)"
      ]
     },
     "execution_count": 20,
     "metadata": {},
     "output_type": "execute_result"
    }
   ],
   "source": [
    "tupla1"
   ]
  },
  {
   "cell_type": "markdown",
   "metadata": {},
   "source": [
    "Dicionários"
   ]
  },
  {
   "cell_type": "code",
   "execution_count": 23,
   "metadata": {},
   "outputs": [],
   "source": [
    "#os dicionários serão representados por {Chave:valor} pedimos a consulta\n",
    "#da chave e será atribuido o valor\n",
    "dicionario={'curso':\"python\",\n",
    "           'duração':'02anos',\n",
    "          ' mensalidade':'100 reais'}"
   ]
  },
  {
   "cell_type": "code",
   "execution_count": 24,
   "metadata": {},
   "outputs": [
    {
     "data": {
      "text/plain": [
       "'python'"
      ]
     },
     "execution_count": 24,
     "metadata": {},
     "output_type": "execute_result"
    }
   ],
   "source": [
    "dicionario['curso']"
   ]
  },
  {
   "cell_type": "code",
   "execution_count": 25,
   "metadata": {},
   "outputs": [],
   "source": [
    "#podemos atribuir uma variavel para buscar a chave\n",
    "a=dicionario['duração']"
   ]
  },
  {
   "cell_type": "code",
   "execution_count": 26,
   "metadata": {},
   "outputs": [
    {
     "name": "stdout",
     "output_type": "stream",
     "text": [
      "02anos\n"
     ]
    }
   ],
   "source": [
    "print(a)"
   ]
  },
  {
   "cell_type": "code",
   "execution_count": 27,
   "metadata": {},
   "outputs": [
    {
     "name": "stdout",
     "output_type": "stream",
     "text": [
      "{'curso': 'python', 'duração': '02anos', ' mensalidade': '100 reais'}\n"
     ]
    }
   ],
   "source": [
    "print(dicionario)"
   ]
  },
  {
   "cell_type": "code",
   "execution_count": 28,
   "metadata": {},
   "outputs": [],
   "source": [
    "#podemos adicionar novas chaves valor\n",
    "dicionario['pre-requisito']='algoritimo'"
   ]
  },
  {
   "cell_type": "code",
   "execution_count": 29,
   "metadata": {},
   "outputs": [
    {
     "data": {
      "text/plain": [
       "{'curso': 'python',\n",
       " 'duração': '02anos',\n",
       " ' mensalidade': '100 reais',\n",
       " 'pre-requisito': 'algoritimo'}"
      ]
     },
     "execution_count": 29,
     "metadata": {},
     "output_type": "execute_result"
    }
   ],
   "source": [
    "dicionario"
   ]
  },
  {
   "cell_type": "code",
   "execution_count": 30,
   "metadata": {},
   "outputs": [
    {
     "data": {
      "text/plain": [
       "dict_keys(['curso', 'duração', ' mensalidade', 'pre-requisito'])"
      ]
     },
     "execution_count": 30,
     "metadata": {},
     "output_type": "execute_result"
    }
   ],
   "source": [
    "dicionario.keys()"
   ]
  },
  {
   "cell_type": "code",
   "execution_count": 31,
   "metadata": {},
   "outputs": [
    {
     "data": {
      "text/plain": [
       "dict_values(['python', '02anos', '100 reais', 'algoritimo'])"
      ]
     },
     "execution_count": 31,
     "metadata": {},
     "output_type": "execute_result"
    }
   ],
   "source": [
    "dicionario.values()"
   ]
  },
  {
   "cell_type": "markdown",
   "metadata": {},
   "source": [
    "Manipulando STRINGS"
   ]
  },
  {
   "cell_type": "code",
   "execution_count": 35,
   "metadata": {},
   "outputs": [],
   "source": [
    "frase= 'evoluindo no estudo do Python'"
   ]
  },
  {
   "cell_type": "code",
   "execution_count": 36,
   "metadata": {},
   "outputs": [
    {
     "data": {
      "text/plain": [
       "'l'"
      ]
     },
     "execution_count": 36,
     "metadata": {},
     "output_type": "execute_result"
    }
   ],
   "source": [
    "#podemos imprimir toda a frase apenas chamando variavel ou por partes com os indices\n",
    "frase[3]"
   ]
  },
  {
   "cell_type": "code",
   "execution_count": 37,
   "metadata": {},
   "outputs": [
    {
     "data": {
      "text/plain": [
       "'luindo '"
      ]
     },
     "execution_count": 37,
     "metadata": {},
     "output_type": "execute_result"
    }
   ],
   "source": [
    "#imprimindo da posição x : Y (da posição x até y)\n",
    "frase[3:10]"
   ]
  },
  {
   "cell_type": "code",
   "execution_count": 38,
   "metadata": {},
   "outputs": [
    {
     "data": {
      "text/plain": [
       "'lid oetd '"
      ]
     },
     "execution_count": 38,
     "metadata": {},
     "output_type": "execute_result"
    }
   ],
   "source": [
    "#imprimindo da posição x : Y :n (da posição x até y) de n carcteres\n",
    "frase[3:20:2]"
   ]
  },
  {
   "cell_type": "code",
   "execution_count": null,
   "metadata": {},
   "outputs": [],
   "source": [
    "#faz a contagem d quantas veses aparecel este caractere\n",
    "frase.count('a')"
   ]
  },
  {
   "cell_type": "code",
   "execution_count": 39,
   "metadata": {},
   "outputs": [
    {
     "data": {
      "text/plain": [
       "1"
      ]
     },
     "execution_count": 39,
     "metadata": {},
     "output_type": "execute_result"
    }
   ],
   "source": [
    "#tendo um data frame e quiser fazer a contagem da string seguir o comando\n",
    "frase.count('Python')"
   ]
  },
  {
   "cell_type": "code",
   "execution_count": 40,
   "metadata": {},
   "outputs": [
    {
     "data": {
      "text/plain": [
       "29"
      ]
     },
     "execution_count": 40,
     "metadata": {},
     "output_type": "execute_result"
    }
   ],
   "source": [
    "# o len faz a contagem de quantos caracteres tem na frase\n",
    "len(frase)"
   ]
  },
  {
   "cell_type": "code",
   "execution_count": 41,
   "metadata": {},
   "outputs": [
    {
     "data": {
      "text/plain": [
       "'evoluindo no estudo do java'"
      ]
     },
     "execution_count": 41,
     "metadata": {},
     "output_type": "execute_result"
    }
   ],
   "source": [
    "#função replace serve para substituir caracteres passando no parametro valor antigo e novo\n",
    "frase.replace('Python','java')"
   ]
  },
  {
   "cell_type": "code",
   "execution_count": 43,
   "metadata": {},
   "outputs": [],
   "source": [
    "#definimos uma função com def e passamos os parametros para termos os resultados apartir de uma formula\n",
    "def quadrados(a,b):\n",
    "    produto=a**2 +b**2\n",
    "    return produto"
   ]
  },
  {
   "cell_type": "code",
   "execution_count": 44,
   "metadata": {},
   "outputs": [
    {
     "data": {
      "text/plain": [
       "10100"
      ]
     },
     "execution_count": 44,
     "metadata": {},
     "output_type": "execute_result"
    }
   ],
   "source": [
    "quadrados(10,100)"
   ]
  },
  {
   "cell_type": "code",
   "execution_count": 45,
   "metadata": {},
   "outputs": [
    {
     "data": {
      "text/plain": [
       "3400"
      ]
     },
     "execution_count": 45,
     "metadata": {},
     "output_type": "execute_result"
    }
   ],
   "source": [
    "quadrados(30,50)"
   ]
  },
  {
   "cell_type": "code",
   "execution_count": 46,
   "metadata": {},
   "outputs": [],
   "source": [
    "#na função lambda apenas pensar como uma função f(x)=y \n",
    "x=lambda y:y*100"
   ]
  },
  {
   "cell_type": "code",
   "execution_count": 47,
   "metadata": {},
   "outputs": [
    {
     "data": {
      "text/plain": [
       "20000"
      ]
     },
     "execution_count": 47,
     "metadata": {},
     "output_type": "execute_result"
    }
   ],
   "source": [
    "x(200)"
   ]
  },
  {
   "cell_type": "code",
   "execution_count": 48,
   "metadata": {},
   "outputs": [],
   "source": [
    "#a Função MAP serve para atribuir uma função em uma lista\n",
    "#eu quero representar essa lista em valores percentuais\n",
    "consumo=[10,20,30,40,50]"
   ]
  },
  {
   "cell_type": "code",
   "execution_count": 49,
   "metadata": {},
   "outputs": [
    {
     "data": {
      "text/plain": [
       "[10, 20, 30, 40, 50]"
      ]
     },
     "execution_count": 49,
     "metadata": {},
     "output_type": "execute_result"
    }
   ],
   "source": [
    "consumo"
   ]
  },
  {
   "cell_type": "code",
   "execution_count": 50,
   "metadata": {},
   "outputs": [
    {
     "name": "stdout",
     "output_type": "stream",
     "text": [
      "[0.1]\n",
      "[0.1, 0.2]\n",
      "[0.1, 0.2, 0.3]\n",
      "[0.1, 0.2, 0.3, 0.4]\n",
      "[0.1, 0.2, 0.3, 0.4, 0.5]\n"
     ]
    }
   ],
   "source": [
    "#criando uma nova variavel em branco para receber em cada item da lista a funçãof(x), podemos deixar mais simples com lambda\n",
    "perc=[]\n",
    "for item in consumo:\n",
    "    perc.append(item/100)\n",
    "    print(perc)"
   ]
  },
  {
   "cell_type": "code",
   "execution_count": 51,
   "metadata": {},
   "outputs": [
    {
     "name": "stdout",
     "output_type": "stream",
     "text": [
      "[0.1, 0.2, 0.3, 0.4, 0.5]\n"
     ]
    }
   ],
   "source": [
    "#com a função map conseguimos aplicar uma equação a diversos itens da uma lista simultaneamente\n",
    "perc2=list(map(lambda x: x/100, consumo))\n",
    "print(perc2)"
   ]
  },
  {
   "cell_type": "markdown",
   "metadata": {},
   "source": [
    "Inicio com NUMPY e PANDAS"
   ]
  },
  {
   "cell_type": "code",
   "execution_count": 60,
   "metadata": {},
   "outputs": [],
   "source": [
    "import numpy as np\n",
    "import pandas as pd"
   ]
  },
  {
   "cell_type": "code",
   "execution_count": 53,
   "metadata": {},
   "outputs": [],
   "source": [
    "# no numpy podemos trabalhar com array listas que podem ter mais de uma dimensão\n",
    "a=np.array([2,3,4])"
   ]
  },
  {
   "cell_type": "code",
   "execution_count": 54,
   "metadata": {},
   "outputs": [
    {
     "name": "stdout",
     "output_type": "stream",
     "text": [
      "[2 3 4]\n"
     ]
    }
   ],
   "source": [
    "print(a)"
   ]
  },
  {
   "cell_type": "code",
   "execution_count": 55,
   "metadata": {},
   "outputs": [
    {
     "data": {
      "text/plain": [
       "array([2, 3, 4])"
      ]
     },
     "execution_count": 55,
     "metadata": {},
     "output_type": "execute_result"
    }
   ],
   "source": [
    "a"
   ]
  },
  {
   "cell_type": "code",
   "execution_count": 56,
   "metadata": {},
   "outputs": [],
   "source": [
    "b=np.array([(1,2,3),(4,5,6)])"
   ]
  },
  {
   "cell_type": "code",
   "execution_count": 57,
   "metadata": {},
   "outputs": [
    {
     "data": {
      "text/plain": [
       "array([[1, 2, 3],\n",
       "       [4, 5, 6]])"
      ]
     },
     "execution_count": 57,
     "metadata": {},
     "output_type": "execute_result"
    }
   ],
   "source": [
    "b"
   ]
  },
  {
   "cell_type": "code",
   "execution_count": 58,
   "metadata": {},
   "outputs": [
    {
     "data": {
      "text/plain": [
       "array([4, 3])"
      ]
     },
     "execution_count": 58,
     "metadata": {},
     "output_type": "execute_result"
    }
   ],
   "source": [
    "c=np.array([4,3])\n",
    "c"
   ]
  },
  {
   "cell_type": "code",
   "execution_count": 62,
   "metadata": {},
   "outputs": [],
   "source": [
    "c=np.zeros([4,3])"
   ]
  },
  {
   "cell_type": "code",
   "execution_count": 61,
   "metadata": {},
   "outputs": [
    {
     "data": {
      "text/plain": [
       "array([[0., 0., 0.],\n",
       "       [0., 0., 0.],\n",
       "       [0., 0., 0.],\n",
       "       [0., 0., 0.]])"
      ]
     },
     "execution_count": 61,
     "metadata": {},
     "output_type": "execute_result"
    }
   ],
   "source": [
    "c"
   ]
  },
  {
   "cell_type": "code",
   "execution_count": 63,
   "metadata": {},
   "outputs": [
    {
     "data": {
      "text/plain": [
       "array([[1., 0., 0., 0., 0., 0., 0., 0., 0., 0.],\n",
       "       [0., 1., 0., 0., 0., 0., 0., 0., 0., 0.],\n",
       "       [0., 0., 1., 0., 0., 0., 0., 0., 0., 0.],\n",
       "       [0., 0., 0., 1., 0., 0., 0., 0., 0., 0.],\n",
       "       [0., 0., 0., 0., 1., 0., 0., 0., 0., 0.],\n",
       "       [0., 0., 0., 0., 0., 1., 0., 0., 0., 0.],\n",
       "       [0., 0., 0., 0., 0., 0., 1., 0., 0., 0.],\n",
       "       [0., 0., 0., 0., 0., 0., 0., 1., 0., 0.],\n",
       "       [0., 0., 0., 0., 0., 0., 0., 0., 1., 0.],\n",
       "       [0., 0., 0., 0., 0., 0., 0., 0., 0., 1.]])"
      ]
     },
     "execution_count": 63,
     "metadata": {},
     "output_type": "execute_result"
    }
   ],
   "source": [
    "#comando eye cria uma matriz identidade a diadonal seguirá tamanho passado na variável\n",
    "d=np.eye(10)\n",
    "d"
   ]
  },
  {
   "cell_type": "code",
   "execution_count": 64,
   "metadata": {},
   "outputs": [
    {
     "data": {
      "text/plain": [
       "{'nome': ['Ricardo', 'pedro', 'jose', 'Ana'],\n",
       " 'nota': ['7.5,', '6', '3', '9'],\n",
       " 'Status': ['aprovado', 'reprovado', 'reprovado', 'aprovado']}"
      ]
     },
     "execution_count": 64,
     "metadata": {},
     "output_type": "execute_result"
    }
   ],
   "source": [
    "alunos={'nome':['Ricardo','pedro','jose','Ana'],'nota':['7.5,','6','3','9'],'Status':['aprovado','reprovado','reprovado','aprovado']\n",
    "        \n",
    "       }\n",
    "alunos"
   ]
  },
  {
   "cell_type": "code",
   "execution_count": 65,
   "metadata": {},
   "outputs": [
    {
     "data": {
      "text/plain": [
       "dict_keys(['nome', 'nota', 'Status'])"
      ]
     },
     "execution_count": 65,
     "metadata": {},
     "output_type": "execute_result"
    }
   ],
   "source": [
    "alunos.keys()"
   ]
  },
  {
   "cell_type": "code",
   "execution_count": 66,
   "metadata": {},
   "outputs": [
    {
     "data": {
      "text/plain": [
       "dict_values([['Ricardo', 'pedro', 'jose', 'Ana'], ['7.5,', '6', '3', '9'], ['aprovado', 'reprovado', 'reprovado', 'aprovado']])"
      ]
     },
     "execution_count": 66,
     "metadata": {},
     "output_type": "execute_result"
    }
   ],
   "source": [
    "alunos.values()"
   ]
  },
  {
   "cell_type": "code",
   "execution_count": 67,
   "metadata": {},
   "outputs": [
    {
     "name": "stdout",
     "output_type": "stream",
     "text": [
      "{'nome': ['Ricardo', 'pedro', 'jose', 'Ana'], 'nota': ['7.5,', '6', '3', '9'], 'Status': ['aprovado', 'reprovado', 'reprovado', 'aprovado']}\n"
     ]
    }
   ],
   "source": [
    "print(alunos)"
   ]
  },
  {
   "cell_type": "code",
   "execution_count": 68,
   "metadata": {},
   "outputs": [],
   "source": [
    "#este comando ira transformar o dicionario alunos em dataframe alocado na variavel tabela\n",
    "tabela = pd.DataFrame(alunos)"
   ]
  },
  {
   "cell_type": "code",
   "execution_count": 69,
   "metadata": {},
   "outputs": [
    {
     "name": "stdout",
     "output_type": "stream",
     "text": [
      "{'nome': ['Ricardo', 'pedro', 'jose', 'Ana'], 'nota': ['7.5,', '6', '3', '9'], 'Status': ['aprovado', 'reprovado', 'reprovado', 'aprovado']}\n"
     ]
    }
   ],
   "source": [
    "print(alunos)"
   ]
  },
  {
   "cell_type": "code",
   "execution_count": 70,
   "metadata": {},
   "outputs": [
    {
     "name": "stdout",
     "output_type": "stream",
     "text": [
      "      nome  nota     Status\n",
      "0  Ricardo  7.5,   aprovado\n",
      "1    pedro     6  reprovado\n",
      "2     jose     3  reprovado\n",
      "3      Ana     9   aprovado\n"
     ]
    }
   ],
   "source": [
    "print(tabela)"
   ]
  },
  {
   "cell_type": "code",
   "execution_count": 71,
   "metadata": {},
   "outputs": [
    {
     "data": {
      "text/plain": [
       "<bound method hist_frame of       nome  nota     Status\n",
       "0  Ricardo  7.5,   aprovado\n",
       "1    pedro     6  reprovado\n",
       "2     jose     3  reprovado\n",
       "3      Ana     9   aprovado>"
      ]
     },
     "execution_count": 71,
     "metadata": {},
     "output_type": "execute_result"
    }
   ],
   "source": [
    "tabela.hist"
   ]
  },
  {
   "cell_type": "code",
   "execution_count": 72,
   "metadata": {},
   "outputs": [
    {
     "data": {
      "text/html": [
       "<div>\n",
       "<style scoped>\n",
       "    .dataframe tbody tr th:only-of-type {\n",
       "        vertical-align: middle;\n",
       "    }\n",
       "\n",
       "    .dataframe tbody tr th {\n",
       "        vertical-align: top;\n",
       "    }\n",
       "\n",
       "    .dataframe thead th {\n",
       "        text-align: right;\n",
       "    }\n",
       "</style>\n",
       "<table border=\"1\" class=\"dataframe\">\n",
       "  <thead>\n",
       "    <tr style=\"text-align: right;\">\n",
       "      <th></th>\n",
       "      <th>nome</th>\n",
       "      <th>nota</th>\n",
       "      <th>Status</th>\n",
       "    </tr>\n",
       "  </thead>\n",
       "  <tbody>\n",
       "    <tr>\n",
       "      <th>0</th>\n",
       "      <td>Ricardo</td>\n",
       "      <td>7.5,</td>\n",
       "      <td>aprovado</td>\n",
       "    </tr>\n",
       "    <tr>\n",
       "      <th>1</th>\n",
       "      <td>pedro</td>\n",
       "      <td>6</td>\n",
       "      <td>reprovado</td>\n",
       "    </tr>\n",
       "    <tr>\n",
       "      <th>2</th>\n",
       "      <td>jose</td>\n",
       "      <td>3</td>\n",
       "      <td>reprovado</td>\n",
       "    </tr>\n",
       "    <tr>\n",
       "      <th>3</th>\n",
       "      <td>Ana</td>\n",
       "      <td>9</td>\n",
       "      <td>aprovado</td>\n",
       "    </tr>\n",
       "  </tbody>\n",
       "</table>\n",
       "</div>"
      ],
      "text/plain": [
       "      nome  nota     Status\n",
       "0  Ricardo  7.5,   aprovado\n",
       "1    pedro     6  reprovado\n",
       "2     jose     3  reprovado\n",
       "3      Ana     9   aprovado"
      ]
     },
     "execution_count": 72,
     "metadata": {},
     "output_type": "execute_result"
    }
   ],
   "source": [
    "tabela.head()"
   ]
  },
  {
   "cell_type": "code",
   "execution_count": 73,
   "metadata": {},
   "outputs": [
    {
     "data": {
      "text/plain": [
       "(4, 3)"
      ]
     },
     "execution_count": 73,
     "metadata": {},
     "output_type": "execute_result"
    }
   ],
   "source": [
    "#mostrando as linhas e colunas da matriz\n",
    "tabela.shape"
   ]
  },
  {
   "cell_type": "code",
   "execution_count": 74,
   "metadata": {},
   "outputs": [
    {
     "data": {
      "text/html": [
       "<div>\n",
       "<style scoped>\n",
       "    .dataframe tbody tr th:only-of-type {\n",
       "        vertical-align: middle;\n",
       "    }\n",
       "\n",
       "    .dataframe tbody tr th {\n",
       "        vertical-align: top;\n",
       "    }\n",
       "\n",
       "    .dataframe thead th {\n",
       "        text-align: right;\n",
       "    }\n",
       "</style>\n",
       "<table border=\"1\" class=\"dataframe\">\n",
       "  <thead>\n",
       "    <tr style=\"text-align: right;\">\n",
       "      <th></th>\n",
       "      <th>nome</th>\n",
       "      <th>nota</th>\n",
       "      <th>Status</th>\n",
       "    </tr>\n",
       "  </thead>\n",
       "  <tbody>\n",
       "    <tr>\n",
       "      <th>count</th>\n",
       "      <td>4</td>\n",
       "      <td>4</td>\n",
       "      <td>4</td>\n",
       "    </tr>\n",
       "    <tr>\n",
       "      <th>unique</th>\n",
       "      <td>4</td>\n",
       "      <td>4</td>\n",
       "      <td>2</td>\n",
       "    </tr>\n",
       "    <tr>\n",
       "      <th>top</th>\n",
       "      <td>pedro</td>\n",
       "      <td>3</td>\n",
       "      <td>reprovado</td>\n",
       "    </tr>\n",
       "    <tr>\n",
       "      <th>freq</th>\n",
       "      <td>1</td>\n",
       "      <td>1</td>\n",
       "      <td>2</td>\n",
       "    </tr>\n",
       "  </tbody>\n",
       "</table>\n",
       "</div>"
      ],
      "text/plain": [
       "         nome nota     Status\n",
       "count       4    4          4\n",
       "unique      4    4          2\n",
       "top     pedro    3  reprovado\n",
       "freq        1    1          2"
      ]
     },
     "execution_count": 74,
     "metadata": {},
     "output_type": "execute_result"
    }
   ],
   "source": [
    "tabela.describe()"
   ]
  },
  {
   "cell_type": "code",
   "execution_count": 75,
   "metadata": {},
   "outputs": [
    {
     "data": {
      "text/plain": [
       "0    Ricardo\n",
       "1      pedro\n",
       "2       jose\n",
       "3        Ana\n",
       "Name: nome, dtype: object"
      ]
     },
     "execution_count": 75,
     "metadata": {},
     "output_type": "execute_result"
    }
   ],
   "source": [
    "#listando uma coluna ou linha do fataframe apenas fazer referencia ao objeto em questão\n",
    "tabela['nome']"
   ]
  },
  {
   "cell_type": "markdown",
   "metadata": {},
   "source": [
    "Manipulando Linhas no DataFrame"
   ]
  },
  {
   "cell_type": "code",
   "execution_count": 76,
   "metadata": {},
   "outputs": [
    {
     "data": {
      "text/html": [
       "<div>\n",
       "<style scoped>\n",
       "    .dataframe tbody tr th:only-of-type {\n",
       "        vertical-align: middle;\n",
       "    }\n",
       "\n",
       "    .dataframe tbody tr th {\n",
       "        vertical-align: top;\n",
       "    }\n",
       "\n",
       "    .dataframe thead th {\n",
       "        text-align: right;\n",
       "    }\n",
       "</style>\n",
       "<table border=\"1\" class=\"dataframe\">\n",
       "  <thead>\n",
       "    <tr style=\"text-align: right;\">\n",
       "      <th></th>\n",
       "      <th>nome</th>\n",
       "      <th>nota</th>\n",
       "      <th>Status</th>\n",
       "    </tr>\n",
       "  </thead>\n",
       "  <tbody>\n",
       "    <tr>\n",
       "      <th>2</th>\n",
       "      <td>jose</td>\n",
       "      <td>3</td>\n",
       "      <td>reprovado</td>\n",
       "    </tr>\n",
       "  </tbody>\n",
       "</table>\n",
       "</div>"
      ],
      "text/plain": [
       "   nome nota     Status\n",
       "2  jose    3  reprovado"
      ]
     },
     "execution_count": 76,
     "metadata": {},
     "output_type": "execute_result"
    }
   ],
   "source": [
    "#se quizer uma linha seguir o mesmo pensamento usando comoando .loc lembrando a contagem em começa apartir do indice '0'zero.\n",
    "tabela.loc[[2]]"
   ]
  },
  {
   "cell_type": "code",
   "execution_count": 77,
   "metadata": {},
   "outputs": [
    {
     "data": {
      "text/html": [
       "<div>\n",
       "<style scoped>\n",
       "    .dataframe tbody tr th:only-of-type {\n",
       "        vertical-align: middle;\n",
       "    }\n",
       "\n",
       "    .dataframe tbody tr th {\n",
       "        vertical-align: top;\n",
       "    }\n",
       "\n",
       "    .dataframe thead th {\n",
       "        text-align: right;\n",
       "    }\n",
       "</style>\n",
       "<table border=\"1\" class=\"dataframe\">\n",
       "  <thead>\n",
       "    <tr style=\"text-align: right;\">\n",
       "      <th></th>\n",
       "      <th>nome</th>\n",
       "      <th>nota</th>\n",
       "      <th>Status</th>\n",
       "    </tr>\n",
       "  </thead>\n",
       "  <tbody>\n",
       "    <tr>\n",
       "      <th>1</th>\n",
       "      <td>pedro</td>\n",
       "      <td>6</td>\n",
       "      <td>reprovado</td>\n",
       "    </tr>\n",
       "    <tr>\n",
       "      <th>2</th>\n",
       "      <td>jose</td>\n",
       "      <td>3</td>\n",
       "      <td>reprovado</td>\n",
       "    </tr>\n",
       "  </tbody>\n",
       "</table>\n",
       "</div>"
      ],
      "text/plain": [
       "    nome nota     Status\n",
       "1  pedro    6  reprovado\n",
       "2   jose    3  reprovado"
      ]
     },
     "execution_count": 77,
     "metadata": {},
     "output_type": "execute_result"
    }
   ],
   "source": [
    "#pra fazer um filtro e trazer um determinado numero de linhas basta no comando .loc dizer de qual linha inicial e final a filtrar\n",
    "tabela.loc[1:2]"
   ]
  },
  {
   "cell_type": "code",
   "execution_count": 78,
   "metadata": {},
   "outputs": [
    {
     "data": {
      "text/html": [
       "<div>\n",
       "<style scoped>\n",
       "    .dataframe tbody tr th:only-of-type {\n",
       "        vertical-align: middle;\n",
       "    }\n",
       "\n",
       "    .dataframe tbody tr th {\n",
       "        vertical-align: top;\n",
       "    }\n",
       "\n",
       "    .dataframe thead th {\n",
       "        text-align: right;\n",
       "    }\n",
       "</style>\n",
       "<table border=\"1\" class=\"dataframe\">\n",
       "  <thead>\n",
       "    <tr style=\"text-align: right;\">\n",
       "      <th></th>\n",
       "      <th>nome</th>\n",
       "      <th>nota</th>\n",
       "      <th>Status</th>\n",
       "    </tr>\n",
       "  </thead>\n",
       "  <tbody>\n",
       "    <tr>\n",
       "      <th>1</th>\n",
       "      <td>pedro</td>\n",
       "      <td>6</td>\n",
       "      <td>reprovado</td>\n",
       "    </tr>\n",
       "  </tbody>\n",
       "</table>\n",
       "</div>"
      ],
      "text/plain": [
       "    nome nota     Status\n",
       "1  pedro    6  reprovado"
      ]
     },
     "execution_count": 78,
     "metadata": {},
     "output_type": "execute_result"
    }
   ],
   "source": [
    "#com o localizar posso fazer uma pesquisa pra dentro dessa tabela trazer um parametro especifico\n",
    "#no comando dentro de tabela ;localize a coluna nome e traga informação sobre pedro.\n",
    "\n",
    "tabela.loc[tabela['nome']=='pedro']"
   ]
  },
  {
   "cell_type": "code",
   "execution_count": 79,
   "metadata": {},
   "outputs": [],
   "source": [
    "#para este caso criando nova variavel localizar dentro da tabela a coluna nome e excluir a linha pedro\n",
    "tabela2=tabela.loc[tabela['nome']!='pedro']"
   ]
  },
  {
   "cell_type": "code",
   "execution_count": 80,
   "metadata": {},
   "outputs": [
    {
     "data": {
      "text/html": [
       "<div>\n",
       "<style scoped>\n",
       "    .dataframe tbody tr th:only-of-type {\n",
       "        vertical-align: middle;\n",
       "    }\n",
       "\n",
       "    .dataframe tbody tr th {\n",
       "        vertical-align: top;\n",
       "    }\n",
       "\n",
       "    .dataframe thead th {\n",
       "        text-align: right;\n",
       "    }\n",
       "</style>\n",
       "<table border=\"1\" class=\"dataframe\">\n",
       "  <thead>\n",
       "    <tr style=\"text-align: right;\">\n",
       "      <th></th>\n",
       "      <th>nome</th>\n",
       "      <th>nota</th>\n",
       "      <th>Status</th>\n",
       "    </tr>\n",
       "  </thead>\n",
       "  <tbody>\n",
       "    <tr>\n",
       "      <th>0</th>\n",
       "      <td>Ricardo</td>\n",
       "      <td>7.5,</td>\n",
       "      <td>aprovado</td>\n",
       "    </tr>\n",
       "    <tr>\n",
       "      <th>2</th>\n",
       "      <td>jose</td>\n",
       "      <td>3</td>\n",
       "      <td>reprovado</td>\n",
       "    </tr>\n",
       "    <tr>\n",
       "      <th>3</th>\n",
       "      <td>Ana</td>\n",
       "      <td>9</td>\n",
       "      <td>aprovado</td>\n",
       "    </tr>\n",
       "  </tbody>\n",
       "</table>\n",
       "</div>"
      ],
      "text/plain": [
       "      nome  nota     Status\n",
       "0  Ricardo  7.5,   aprovado\n",
       "2     jose     3  reprovado\n",
       "3      Ana     9   aprovado"
      ]
     },
     "execution_count": 80,
     "metadata": {},
     "output_type": "execute_result"
    }
   ],
   "source": [
    "tabela2"
   ]
  },
  {
   "cell_type": "code",
   "execution_count": 81,
   "metadata": {},
   "outputs": [
    {
     "data": {
      "text/html": [
       "<div>\n",
       "<style scoped>\n",
       "    .dataframe tbody tr th:only-of-type {\n",
       "        vertical-align: middle;\n",
       "    }\n",
       "\n",
       "    .dataframe tbody tr th {\n",
       "        vertical-align: top;\n",
       "    }\n",
       "\n",
       "    .dataframe thead th {\n",
       "        text-align: right;\n",
       "    }\n",
       "</style>\n",
       "<table border=\"1\" class=\"dataframe\">\n",
       "  <thead>\n",
       "    <tr style=\"text-align: right;\">\n",
       "      <th></th>\n",
       "      <th>NOME</th>\n",
       "      <th>nota</th>\n",
       "      <th>Status</th>\n",
       "    </tr>\n",
       "  </thead>\n",
       "  <tbody>\n",
       "    <tr>\n",
       "      <th>0</th>\n",
       "      <td>Ricardo</td>\n",
       "      <td>7.5,</td>\n",
       "      <td>aprovado</td>\n",
       "    </tr>\n",
       "    <tr>\n",
       "      <th>2</th>\n",
       "      <td>jose</td>\n",
       "      <td>3</td>\n",
       "      <td>reprovado</td>\n",
       "    </tr>\n",
       "    <tr>\n",
       "      <th>3</th>\n",
       "      <td>Ana</td>\n",
       "      <td>9</td>\n",
       "      <td>aprovado</td>\n",
       "    </tr>\n",
       "  </tbody>\n",
       "</table>\n",
       "</div>"
      ],
      "text/plain": [
       "      NOME  nota     Status\n",
       "0  Ricardo  7.5,   aprovado\n",
       "2     jose     3  reprovado\n",
       "3      Ana     9   aprovado"
      ]
     },
     "execution_count": 81,
     "metadata": {},
     "output_type": "execute_result"
    }
   ],
   "source": [
    "#renomeando uma coluna escolher a coluna e seguir padrão dicionário chave : valor\n",
    "tabela2.rename(columns={'nome':'NOME',})"
   ]
  },
  {
   "cell_type": "code",
   "execution_count": 2,
   "metadata": {},
   "outputs": [],
   "source": [
    "#biblioteca para visualizar graficos em Python\n",
    "import matplotlib.pyplot as plt"
   ]
  },
  {
   "cell_type": "code",
   "execution_count": 4,
   "metadata": {},
   "outputs": [
    {
     "data": {
      "image/png": "[encoded data removed]",
      "text/plain": [
       "<Figure size 432x288 with 1 Axes>"
      ]
     },
     "metadata": {
      "needs_background": "light"
     },
     "output_type": "display_data"
    }
   ],
   "source": [
    "x=[1,3,5,7,9,15]\n",
    "y=[2,30,12,3,10,18]\n",
    "titulo=\"grafico dispersão\"\n",
    "eixox=\"Eixo X\"\n",
    "eixoY=\"Eixo Y\"\n",
    "#plotar legendas\n",
    "plt.title(titulo)\n",
    "plt.xlabel(eixox)\n",
    "plt.ylabel(eixoY)\n",
    "\n",
    "plt.plot(x,y)\n",
    "plt.scatter(x,y, color=\"red\",label=\"MEUS PONTOS\")\n",
    "plt.legend()\n",
    "plt.show()"
   ]
  },
  {
   "cell_type": "code",
   "execution_count": 7,
   "metadata": {},
   "outputs": [],
   "source": [
    "import pandas as pd\n",
    "import numpy as np\n",
    "import matplotlib.pyplot as plt"
   ]
  },
  {
   "cell_type": "code",
   "execution_count": null,
   "metadata": {},
   "outputs": [],
   "source": []
  },
  {
   "cell_type": "code",
   "execution_count": null,
   "metadata": {},
   "outputs": [],
   "source": []
  },
  {
   "cell_type": "code",
   "execution_count": 9,
   "metadata": {},
   "outputs": [],
   "source": [
    "df =pd.read_csv('IW38.csv',encoding='ANSI',sep=';')"
   ]
  },
  {
   "cell_type": "code",
   "execution_count": 10,
   "metadata": {},
   "outputs": [
    {
     "data": {
      "text/plain": [
       "<bound method NDFrame.head of        Material                      Texto breve material Quantidade  \\\n",
       "0       1004603  ARRUELA;LI;3/8POL;25,40MM;1,60MM;AISI304        -48   \n",
       "1       1004603  ARRUELA;LI;3/8POL;25,40MM;1,60MM;AISI304        -24   \n",
       "2       1004656           ARRUELA;LI;8MM;17MM;2MM;AISI304        -48   \n",
       "3       1004686    ARRUELA;PR;10MM;17,20MM;2,20MM;AISI304        -18   \n",
       "4       1004690          ARRUELA;PR;3/8POL;17,27MM;2,39MM        -24   \n",
       "5       1018642                ELEMENTO ELAST;VULKAN E148         -1   \n",
       "6       1019252             CODIFICADOR;KRONES/0900694870         -1   \n",
       "7       1024237    HELICE P/ CONDENSADOR - PI5761 SHIGUEN         -1   \n",
       "8       1032093   PARAFUSO SEXT;M10X1,50;20MM;A307 GV;G A        -18   \n",
       "9       1032243      PARAFUSO SEXT;UNC3/8;2POL;AISI304;RT        -24   \n",
       "10      1032295     PARAFUSO SEXT;M8X1,25;25MM;AISI304;RT        -32   \n",
       "11      1032809       PARAFUSO PARABOLT 3/8 X 1.1/2 CISER         -7   \n",
       "12      1036099        PORCA;SEXT;UNC3/8;21/64POL;AISI304        -24   \n",
       "13      1036110         PORCA;SEXT;M8X1,25;6,50MM;AISI304        -16   \n",
       "14      1036259      PORCA;AUT SEXT;M10X1,50;10MM;AISI304        -18   \n",
       "15      1038812   RETENTOR;30X42X7MM;NBR;VEDABRAS/0024832         -1   \n",
       "16      1040341    ROLAMENTO FIX ESF;30X62X16MM;AC;6206ZZ         -1   \n",
       "17      1040345    ROLAMENTO FIX ESF;35X72X17MM;AC;6207ZZ         -1   \n",
       "18      1040954     ROLAMENTO FIX RAP;40MM;80MM;GRA208V22         -2   \n",
       "19      1087106  FILTRO PNEUM;16BAR;1/4ISO G;FESTO/186483         -1   \n",
       "20      1088785  MODULO ELETR FONT ALIM;KRONES/0901563400         -1   \n",
       "21      1113565                 LIMITADOR;ROBATECH/102120         -1   \n",
       "22      1002059       ANEL ELAST;EI;33MM;1,20MM;AC MO FFO         -1   \n",
       "23      1002097    ANEL ELAST;EI;30MM;1,50MM;AC MO;DIN471         -1   \n",
       "24      1002120                        ANEL ELASTICO E-30         -1   \n",
       "25      1002128  ANEL ELAST;FR;35MM;1,50MM;SAE1070;DIN472         -1   \n",
       "26      1010503                CARTUCHO;KRONES/7475600004         -3   \n",
       "27      1010503                CARTUCHO;KRONES/7475600004         -3   \n",
       "28      1019471   ENGRENAGEM;FIX;NY;BIPARTIDAZ2130PFISTER         -5   \n",
       "29      1023332        GRAXA;EP1;SINTET;220GRC;-45A120GRC         -1   \n",
       "...         ...                                       ...        ...   \n",
       "51954   1019968      ESPATULA P/BORR;CIL;ABAU/RET;3,5/1MM        -21   \n",
       "51955   1020142   ESPUMA AMARELO POLIURETANO A ISOCIANATO       -200   \n",
       "51956   1025120    CHAVE TORX JG;T7-T40;9PC;GEDORE/024620        -21   \n",
       "51957   1025120    CHAVE TORX JG;T7-T40;9PC;GEDORE/024620         21   \n",
       "51958   1025142    CHAVE COMB JG;6-22MM;17PC;GEDORE/1B17M         19   \n",
       "51959   1025142    CHAVE COMB JG;6-22MM;17PC;GEDORE/1B17M        -19   \n",
       "51960   1028956     MARTELO PENA;AC;RET;500G;MAD CUNH MET         -5   \n",
       "51961   1028956     MARTELO PENA;AC;RET;500G;MAD CUNH MET          5   \n",
       "51962   1047016        TRENA;5M;19MM;MM;STARRETT/KTS345MS        -21   \n",
       "51963   1047016        TRENA;5M;19MM;MM;STARRETT/KTS345MS         21   \n",
       "51964   1057670            OLEO LUBR;PAG;26,1CST A 100GRC        -20   \n",
       "51965   1064569                          CURVA INOX 304 2         -6   \n",
       "51966   1075210                TE RED GALVANIZADO 3/4 1/2         -6   \n",
       "51967   1075211                  NIPEL RPSC PVC 1/2 TIGRE         -6   \n",
       "51968   1077377                       BALDE;PLAS GRAD;10L        -40   \n",
       "51969   1077379                  PANO P/PISO ALVEJADO 65G       -300   \n",
       "51970   1077384         ESPONJA DUPLA FACE 100X71X20MM 3M       -600   \n",
       "51971   1023297                   GRAXA;KRONES/0901251039         -1   \n",
       "51972   1027315           LUBRIFICANTE SEC;TEFL;FBS/GP800        -35   \n",
       "51973   1031264      OLEO HIDR;TAMB 200L;EXXONMOBIL/DTE26        -90   \n",
       "51974   1031264      OLEO HIDR;TAMB 200L;EXXONMOBIL/DTE26        150   \n",
       "51975   1031264      OLEO HIDR;TAMB 200L;EXXONMOBIL/DTE26       -150   \n",
       "51976   1031271    OLEO LUB;TAMBOR 200;GARGOYLE ARCTIC EH       -420   \n",
       "51977   1064068    OLEO LUBR;SINTET;ADIT;10,9CST A 100GRC         -1   \n",
       "51978   1077985             UNIDADE;MAYEKAWA/207619900008          1   \n",
       "51979   1031282      OLEO LUBR;MIN;ADIT;14,07CST A 100GRC         -1   \n",
       "51980   1031288     OLEO LUBR;ENGR;MIN;MIN;19CST A 100GRC         -1   \n",
       "51981   1031294        OLEO LUBR;ENGR;MIN;ADIT/OLEO BASIC         -1   \n",
       "51982   1031271    OLEO LUB;TAMBOR 200;GARGOYLE ARCTIC EH        -20   \n",
       "51983   1031278    OLEO LUBR;MIN;PARAFIN;2,62CST A 100GRC         -1   \n",
       "\n",
       "      UM registro Tipo de movimento Data de lançamento  Montante em MI   \\\n",
       "0              UN               Z61         19/05/2020        -R$12,35    \n",
       "1              UN               Z61         19/05/2020         -R$6,18    \n",
       "2              UN               Z61         19/05/2020         -R$9,32    \n",
       "3              UN               Z61         19/05/2020         -R$3,85    \n",
       "4              UN               Z61         19/05/2020         -R$0,95    \n",
       "5              UN               Z61         19/05/2020        -R$43,50    \n",
       "6              UN               Z61         19/05/2020     -R$1.038,57    \n",
       "7              UN               Z61         19/05/2020       -R$521,20    \n",
       "8              UN               Z61         19/05/2020         -R$6,59    \n",
       "9              UN               Z61         19/05/2020        -R$65,15    \n",
       "10             UN               Z61         19/05/2020        -R$30,00    \n",
       "11             UN               Z61         19/05/2020        -R$16,47    \n",
       "12             UN               Z61         19/05/2020        -R$12,39    \n",
       "13             UN               Z61         19/05/2020         -R$4,99    \n",
       "14             UN               Z61         19/05/2020        -R$19,84    \n",
       "15             UN               Z61         19/05/2020         -R$8,38    \n",
       "16             UN               Z61         19/05/2020        -R$16,52    \n",
       "17             UN               Z61         19/05/2020        -R$21,32    \n",
       "18             UN               Z61         19/05/2020       -R$131,80    \n",
       "19             UN               Z61         19/05/2020       -R$535,45    \n",
       "20             UN               Z61         19/05/2020     -R$4.135,89    \n",
       "21             UN               Z61         19/05/2020       -R$492,18    \n",
       "22             UN               Z61         18/05/2020         -R$0,59    \n",
       "23             UN               Z61         18/05/2020         -R$0,60    \n",
       "24             UN               Z61         18/05/2020         -R$0,33    \n",
       "25             UN               Z61         18/05/2020         -R$0,40    \n",
       "26             UN               Z61         18/05/2020        -R$12,78    \n",
       "27             UN               Z61         18/05/2020        -R$12,78    \n",
       "28             UN               Z61         18/05/2020       -R$412,85    \n",
       "29             UN               201         18/05/2020       -R$873,49    \n",
       "...           ...               ...                ...              ...   \n",
       "51954          UN               Z61         19/06/2014       -R$869,61    \n",
       "51955          UN               Z61         19/06/2014           R$-      \n",
       "51956          UN               Z61         19/06/2014     -R$1.652,49    \n",
       "51957          UN               Z62         19/06/2014      R$1.652,49    \n",
       "51958          UN               Z62         19/06/2014      R$2.050,67    \n",
       "51959          UN               Z61         19/06/2014     -R$2.050,67    \n",
       "51960          UN               Z61         19/06/2014       -R$500,00    \n",
       "51961          UN               Z62         19/06/2014        R$500,00    \n",
       "51962          UN               Z61         19/06/2014       -R$223,86    \n",
       "51963          UN               Z62         19/06/2014        R$223,86    \n",
       "51964           L               201         19/06/2014     -R$3.915,32    \n",
       "51965          UN               Z61         19/06/2014     -R$2.068,56    \n",
       "51966          UN               Z61         19/06/2014        -R$28,80    \n",
       "51967          UN               Z61         19/06/2014         -R$2,22    \n",
       "51968          UN               201         19/06/2014       -R$264,00    \n",
       "51969          UN               201         19/06/2014       -R$555,00    \n",
       "51970          UN               201         19/06/2014       -R$210,00    \n",
       "51971          KG               201         13/06/2014        -R$99,02    \n",
       "51972          UN               201         09/06/2014     -R$3.254,84    \n",
       "51973           L               201         03/06/2014     -R$1.091,44    \n",
       "51974           L               202         26/05/2014      R$1.819,07    \n",
       "51975           L               201         26/05/2014     -R$1.819,07    \n",
       "51976           L               201         24/05/2014     -R$4.410,14    \n",
       "51977          BD               Z61         19/05/2014     -R$2.243,53    \n",
       "51978          UN               202         19/05/2014          R$0,01    \n",
       "51979          BD               201         12/05/2014       -R$254,21    \n",
       "51980          BD               201         12/05/2014       -R$255,14    \n",
       "51981          BD               201         12/05/2014       -R$260,81    \n",
       "51982           L               201         06/05/2014       -R$210,00    \n",
       "51983          BD               201         15/04/2014       -R$298,20    \n",
       "\n",
       "       Fornecedor       Ordem  Pedido           Txt.descr.cta.Razão  Cliente  \\\n",
       "0             NaN  22224469.0     NaN            PECAS E ACESSORIOS      NaN   \n",
       "1             NaN  22535827.0     NaN            PECAS E ACESSORIOS      NaN   \n",
       "2             NaN  22224469.0     NaN            PECAS E ACESSORIOS      NaN   \n",
       "3             NaN  22579609.0     NaN            PECAS E ACESSORIOS      NaN   \n",
       "4             NaN  22224469.0     NaN            PECAS E ACESSORIOS      NaN   \n",
       "5             NaN  22583949.0     NaN            PECAS E ACESSORIOS      NaN   \n",
       "6             NaN  22571182.0     NaN            PECAS E ACESSORIOS      NaN   \n",
       "7             NaN  22566499.0     NaN            PECAS E ACESSORIOS      NaN   \n",
       "8             NaN  22579609.0     NaN            PECAS E ACESSORIOS      NaN   \n",
       "9             NaN  22224469.0     NaN            PECAS E ACESSORIOS      NaN   \n",
       "10            NaN  22224469.0     NaN            PECAS E ACESSORIOS      NaN   \n",
       "11            NaN  22224469.0     NaN            PECAS E ACESSORIOS      NaN   \n",
       "12            NaN  22224469.0     NaN            PECAS E ACESSORIOS      NaN   \n",
       "13            NaN  22224469.0     NaN            PECAS E ACESSORIOS      NaN   \n",
       "14            NaN  22579609.0     NaN            PECAS E ACESSORIOS      NaN   \n",
       "15            NaN  22566499.0     NaN            PECAS E ACESSORIOS      NaN   \n",
       "16            NaN  22566499.0     NaN            PECAS E ACESSORIOS      NaN   \n",
       "17            NaN  22566499.0     NaN            PECAS E ACESSORIOS      NaN   \n",
       "18            NaN  22566708.0     NaN            PECAS E ACESSORIOS      NaN   \n",
       "19            NaN  22584285.0     NaN            PECAS E ACESSORIOS      NaN   \n",
       "20            NaN  22584136.0     NaN            PECAS E ACESSORIOS      NaN   \n",
       "21            NaN  22571182.0     NaN            PECAS E ACESSORIOS      NaN   \n",
       "22            NaN  22405555.0     NaN            PECAS E ACESSORIOS      NaN   \n",
       "23            NaN  22405555.0     NaN            PECAS E ACESSORIOS      NaN   \n",
       "24            NaN  22405555.0     NaN            PECAS E ACESSORIOS      NaN   \n",
       "25            NaN  22405555.0     NaN            PECAS E ACESSORIOS      NaN   \n",
       "26            NaN  22540943.0     NaN            PECAS E ACESSORIOS      NaN   \n",
       "27            NaN  22488864.0     NaN            PECAS E ACESSORIOS      NaN   \n",
       "28            NaN  22484650.0     NaN            PECAS E ACESSORIOS      NaN   \n",
       "29            NaN         NaN     NaN  COMBUSTIVEIS E LUBRIFICANTES      NaN   \n",
       "...           ...         ...     ...                           ...      ...   \n",
       "51954         NaN  33000112.0     NaN            PECAS E ACESSORIOS      NaN   \n",
       "51955         NaN  33000112.0     NaN            PECAS E ACESSORIOS      NaN   \n",
       "51956         NaN  33000112.0     NaN            PECAS E ACESSORIOS      NaN   \n",
       "51957         NaN  33000112.0     NaN            PECAS E ACESSORIOS      NaN   \n",
       "51958         NaN  33000112.0     NaN            PECAS E ACESSORIOS      NaN   \n",
       "51959         NaN  33000112.0     NaN            PECAS E ACESSORIOS      NaN   \n",
       "51960         NaN  33000112.0     NaN            PECAS E ACESSORIOS      NaN   \n",
       "51961         NaN  33000112.0     NaN            PECAS E ACESSORIOS      NaN   \n",
       "51962         NaN  33000112.0     NaN            PECAS E ACESSORIOS      NaN   \n",
       "51963         NaN  33000112.0     NaN            PECAS E ACESSORIOS      NaN   \n",
       "51964         NaN         NaN     NaN            PECAS E ACESSORIOS      NaN   \n",
       "51965         NaN  33000112.0     NaN            PECAS E ACESSORIOS      NaN   \n",
       "51966         NaN  33000112.0     NaN            PECAS E ACESSORIOS      NaN   \n",
       "51967         NaN  33000112.0     NaN            PECAS E ACESSORIOS      NaN   \n",
       "51968         NaN         NaN     NaN            PECAS E ACESSORIOS      NaN   \n",
       "51969         NaN         NaN     NaN            PECAS E ACESSORIOS      NaN   \n",
       "51970         NaN         NaN     NaN            PECAS E ACESSORIOS      NaN   \n",
       "51971         NaN         NaN     NaN            PECAS E ACESSORIOS      NaN   \n",
       "51972         NaN         NaN     NaN            PECAS E ACESSORIOS      NaN   \n",
       "51973         NaN         NaN     NaN            PECAS E ACESSORIOS      NaN   \n",
       "51974         NaN         NaN     NaN            PECAS E ACESSORIOS      NaN   \n",
       "51975         NaN         NaN     NaN            PECAS E ACESSORIOS      NaN   \n",
       "51976         NaN         NaN     NaN            PECAS E ACESSORIOS      NaN   \n",
       "51977         NaN  20000081.0     NaN            PECAS E ACESSORIOS      NaN   \n",
       "51978         NaN         NaN     NaN            PECAS E ACESSORIOS      NaN   \n",
       "51979         NaN         NaN     NaN            PECAS E ACESSORIOS      NaN   \n",
       "51980         NaN         NaN     NaN            PECAS E ACESSORIOS      NaN   \n",
       "51981         NaN         NaN     NaN            PECAS E ACESSORIOS      NaN   \n",
       "51982         NaN         NaN     NaN            PECAS E ACESSORIOS      NaN   \n",
       "51983         NaN         NaN     NaN            PECAS E ACESSORIOS      NaN   \n",
       "\n",
       "       Ordem do cliente  Item ord.cliente Tipo de material  \n",
       "0                   NaN                 0             ERSA  \n",
       "1                   NaN                 0             ERSA  \n",
       "2                   NaN                 0             ERSA  \n",
       "3                   NaN                 0             ERSA  \n",
       "4                   NaN                 0             ERSA  \n",
       "5                   NaN                 0             ERSA  \n",
       "6                   NaN                 0             ERSA  \n",
       "7                   NaN                 0             ERSA  \n",
       "8                   NaN                 0             ERSA  \n",
       "9                   NaN                 0             ERSA  \n",
       "10                  NaN                 0             ERSA  \n",
       "11                  NaN                 0             ERSA  \n",
       "12                  NaN                 0             ERSA  \n",
       "13                  NaN                 0             ERSA  \n",
       "14                  NaN                 0             ERSA  \n",
       "15                  NaN                 0             ERSA  \n",
       "16                  NaN                 0             ERSA  \n",
       "17                  NaN                 0             ERSA  \n",
       "18                  NaN                 0             ERSA  \n",
       "19                  NaN                 0             ERSA  \n",
       "20                  NaN                 0             ERSA  \n",
       "21                  NaN                 0             ERSA  \n",
       "22                  NaN                 0             ERSA  \n",
       "23                  NaN                 0             ERSA  \n",
       "24                  NaN                 0             ERSA  \n",
       "25                  NaN                 0             ERSA  \n",
       "26                  NaN                 0             ERSA  \n",
       "27                  NaN                 0             ERSA  \n",
       "28                  NaN                 0             ERSA  \n",
       "29                  NaN                 0             ERSA  \n",
       "...                 ...               ...              ...  \n",
       "51954               NaN                 0             ERSA  \n",
       "51955               NaN                 0             ERSA  \n",
       "51956               NaN                 0             ERSA  \n",
       "51957               NaN                 0             ERSA  \n",
       "51958               NaN                 0             ERSA  \n",
       "51959               NaN                 0             ERSA  \n",
       "51960               NaN                 0             ERSA  \n",
       "51961               NaN                 0             ERSA  \n",
       "51962               NaN                 0             ERSA  \n",
       "51963               NaN                 0             ERSA  \n",
       "51964               NaN                 0             ERSA  \n",
       "51965               NaN                 0             ERSA  \n",
       "51966               NaN                 0             ERSA  \n",
       "51967               NaN                 0             ERSA  \n",
       "51968               NaN                 0             ERSA  \n",
       "51969               NaN                 0             ERSA  \n",
       "51970               NaN                 0             ERSA  \n",
       "51971               NaN                 0             ERSA  \n",
       "51972               NaN                 0             ERSA  \n",
       "51973               NaN                 0             ERSA  \n",
       "51974               NaN                 0             ERSA  \n",
       "51975               NaN                 0             ERSA  \n",
       "51976               NaN                 0             ERSA  \n",
       "51977               NaN                 0             ERSA  \n",
       "51978               NaN                 0             ERSA  \n",
       "51979               NaN                 0             ERSA  \n",
       "51980               NaN                 0             ERSA  \n",
       "51981               NaN                 0             ERSA  \n",
       "51982               NaN                 0             ERSA  \n",
       "51983               NaN                 0             ERSA  \n",
       "\n",
       "[51984 rows x 15 columns]>"
      ]
     },
     "execution_count": 10,
     "metadata": {},
     "output_type": "execute_result"
    }
   ],
   "source": [
    "df.head"
   ]
  },
  {
   "cell_type": "code",
   "execution_count": 13,
   "metadata": {},
   "outputs": [
    {
     "data": {
      "text/plain": [
       "Material                  int64\n",
       "Texto breve material     object\n",
       "Quantidade               object\n",
       "UM registro              object\n",
       "Tipo de movimento        object\n",
       "Data de lançamento       object\n",
       " Montante em MI          object\n",
       "Fornecedor              float64\n",
       "Ordem                   float64\n",
       "Pedido                  float64\n",
       "Txt.descr.cta.Razão      object\n",
       "Cliente                 float64\n",
       "Ordem do cliente        float64\n",
       "Item ord.cliente          int64\n",
       "Tipo de material         object\n",
       "dtype: object"
      ]
     },
     "execution_count": 13,
     "metadata": {},
     "output_type": "execute_result"
    }
   ],
   "source": [
    "df.dtypes"
   ]
  },
  {
   "cell_type": "code",
   "execution_count": 14,
   "metadata": {},
   "outputs": [
    {
     "data": {
      "text/plain": [
       "<pandas.plotting._core.FramePlotMethods object at 0x00000192050396D8>"
      ]
     },
     "execution_count": 14,
     "metadata": {},
     "output_type": "execute_result"
    }
   ],
   "source": [
    "df.plot"
   ]
  },
  {
   "cell_type": "code",
   "execution_count": 15,
   "metadata": {},
   "outputs": [
    {
     "data": {
      "text/plain": [
       "array([[<matplotlib.axes._subplots.AxesSubplot object at 0x000001920559E5C0>,\n",
       "        <matplotlib.axes._subplots.AxesSubplot object at 0x00000192058EEFD0>,\n",
       "        <matplotlib.axes._subplots.AxesSubplot object at 0x00000192059206A0>],\n",
       "       [<matplotlib.axes._subplots.AxesSubplot object at 0x0000019205946860>,\n",
       "        <matplotlib.axes._subplots.AxesSubplot object at 0x000001920596FE80>,\n",
       "        <matplotlib.axes._subplots.AxesSubplot object at 0x000001920596FEB8>],\n",
       "       [<matplotlib.axes._subplots.AxesSubplot object at 0x00000192059C4BA8>,\n",
       "        <matplotlib.axes._subplots.AxesSubplot object at 0x00000192059F5278>,\n",
       "        <matplotlib.axes._subplots.AxesSubplot object at 0x0000019205A1C908>]],\n",
       "      dtype=object)"
      ]
     },
     "execution_count": 15,
     "metadata": {},
     "output_type": "execute_result"
    },
    {
     "data": {
      "image/png": "[encoded data removed]",
      "text/plain": [
       "<Figure size 432x288 with 9 Axes>"
      ]
     },
     "metadata": {
      "needs_background": "light"
     },
     "output_type": "display_data"
    }
   ],
   "source": [
    "df.hist()"
   ]
  },
  {
   "cell_type": "code",
   "execution_count": 16,
   "metadata": {},
   "outputs": [],
   "source": [
    "df2=df.filter(items=['Material', 'Texto breve material', 'Quantidade', 'Equipamento','Valor'])"
   ]
  },
  {
   "cell_type": "code",
   "execution_count": 19,
   "metadata": {},
   "outputs": [
    {
     "data": {
      "text/plain": [
       "array([[<matplotlib.axes._subplots.AxesSubplot object at 0x0000019205C526D8>]],\n",
       "      dtype=object)"
      ]
     },
     "execution_count": 19,
     "metadata": {},
     "output_type": "execute_result"
    },
    {
     "data": {
      "image/png": "[encoded data removed]",
      "text/plain": [
       "<Figure size 432x288 with 1 Axes>"
      ]
     },
     "metadata": {
      "needs_background": "light"
     },
     "output_type": "display_data"
    }
   ],
   "source": [
    "df2.hist(bins=30)"
   ]
  },
  {
   "cell_type": "code",
   "execution_count": 20,
   "metadata": {},
   "outputs": [],
   "source": [
    "material=df['Material'].sort_index()"
   ]
  },
  {
   "cell_type": "code",
   "execution_count": 23,
   "metadata": {},
   "outputs": [
    {
     "data": {
      "text/plain": [
       "<pandas.plotting._core.SeriesPlotMethods object at 0x0000019205DBD1D0>"
      ]
     },
     "execution_count": 23,
     "metadata": {},
     "output_type": "execute_result"
    }
   ],
   "source": [
    "material.plot"
   ]
  },
  {
   "cell_type": "code",
   "execution_count": null,
   "metadata": {},
   "outputs": [],
   "source": []
  }
 ],
 "metadata": {
  "kernelspec": {
   "display_name": "Python 3",
   "language": "python",
   "name": "python3"
  },
  "language_info": {
   "codemirror_mode": {
    "name": "ipython",
    "version": 3
   },
   "file_extension": ".py",
   "mimetype": "text/x-python",
   "name": "python",
   "nbconvert_exporter": "python",
   "pygments_lexer": "ipython3",
   "version": "3.7.0"
  }
 },
 "nbformat": 4,
 "nbformat_minor": 2
}
